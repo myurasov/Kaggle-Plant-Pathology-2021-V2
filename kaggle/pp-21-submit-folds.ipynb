{
 "cells": [
  {
   "cell_type": "code",
   "execution_count": 1,
   "metadata": {
    "_cell_guid": "b1076dfc-b9ad-4769-8c92-a6c4dae69d19",
    "_uuid": "8f2839f25d086af736a60e9eeb907d3b93b6e0e5"
   },
   "outputs": [],
   "source": [
    "import json\n",
    "import os\n",
    "from glob import glob\n",
    "from pathlib import Path\n",
    "\n",
    "import numpy as np\n",
    "import pandas as pd\n",
    "import tensorflow as tf\n",
    "from tensorflow import keras"
   ]
  },
  {
   "cell_type": "code",
   "execution_count": 10,
   "metadata": {
    "_cell_guid": "b1076dfc-b9ad-4769-8c92-a6c4dae69d19",
    "_uuid": "8f2839f25d086af736a60e9eeb907d3b93b6e0e5"
   },
   "outputs": [],
   "source": [
    "def _path_to_x(path):\n",
    "    x = tf.io.read_file(path)\n",
    "    x = tf.image.decode_jpeg(x, channels=3)\n",
    "    x = tf.image.resize(\n",
    "        x,\n",
    "        tuple(meta[\"image_size\"][:2]),\n",
    "        method=tf.image.ResizeMethod.BICUBIC,\n",
    "    )\n",
    "    x = x.numpy().astype(np.uint8)\n",
    "    return x\n",
    "\n",
    "\n",
    "def _y_to_labels(y):\n",
    "    labels = []\n",
    "    for i, v in enumerate(y):\n",
    "        if v > 0.5:\n",
    "            labels.append(meta[\"classes\"][i])\n",
    "    if len(labels) == 0:\n",
    "        labels = [\"scab\"]\n",
    "    return \" \".join(labels)\n",
    "\n",
    "\n",
    "def _predict(paths, model):\n",
    "    X = []\n",
    "\n",
    "    for path in paths:\n",
    "        X.append(_path_to_x(path))\n",
    "\n",
    "    y = model.predict(\n",
    "        np.array(X),\n",
    "        batch_size=meta[\"args\"][\"batch\"],\n",
    "        verbose=0,\n",
    "    )\n",
    "\n",
    "    return y"
   ]
  },
  {
   "cell_type": "code",
   "execution_count": 4,
   "metadata": {
    "_cell_guid": "b1076dfc-b9ad-4769-8c92-a6c4dae69d19",
    "_uuid": "8f2839f25d086af736a60e9eeb907d3b93b6e0e5"
   },
   "outputs": [],
   "source": [
    "# paths = glob(\"/app/_data/competition_data/test_images/*.jpg\", recursive=True)\n",
    "paths = glob(\"/kaggle/input/**/test_images/*.jpg\", recursive=True)\n",
    "\n",
    "files = list(map(os.path.basename, paths))\n",
    "\n",
    "# MODEL_PATHS = [f\"/app/_data/work/models/A_all.fold_{1}\" for x in range(5)]\n",
    "MODEL_PATHS = [f\"/kaggle/input/pp21models/A_all.fold_{1+x}\" for x in range(5)]"
   ]
  },
  {
   "cell_type": "code",
   "execution_count": 6,
   "metadata": {},
   "outputs": [
    {
     "name": "stdout",
     "output_type": "stream",
     "text": [
      "/app/_data/work/models/A_all.fold_1\n",
      "INFO:tensorflow:Mixed precision compatibility check (mixed_float16): OK\n",
      "Your GPU will likely run quickly with dtype policy mixed_float16 as it has compute capability of at least 7.0. Your GPU: Tesla V100-DGXS-32GB, compute capability 7.0\n",
      "WARNING:tensorflow:The operation `tf.image.convert_image_dtype` will be skipped since the input and output dtypes are identical.\n",
      "/app/_data/work/models/A_all.fold_1\n",
      "WARNING:tensorflow:The operation `tf.image.convert_image_dtype` will be skipped since the input and output dtypes are identical.\n",
      "/app/_data/work/models/A_all.fold_1\n",
      "WARNING:tensorflow:The operation `tf.image.convert_image_dtype` will be skipped since the input and output dtypes are identical.\n",
      "/app/_data/work/models/A_all.fold_1\n",
      "WARNING:tensorflow:The operation `tf.image.convert_image_dtype` will be skipped since the input and output dtypes are identical.\n",
      "/app/_data/work/models/A_all.fold_1\n",
      "WARNING:tensorflow:The operation `tf.image.convert_image_dtype` will be skipped since the input and output dtypes are identical.\n",
      "WARNING:tensorflow:5 out of the last 5 calls to <function Model.make_predict_function.<locals>.predict_function at 0x7f9ab0f98430> triggered tf.function retracing. Tracing is expensive and the excessive number of tracings could be due to (1) creating @tf.function repeatedly in a loop, (2) passing tensors with different shapes, (3) passing Python objects instead of tensors. For (1), please define your @tf.function outside of the loop. For (2), @tf.function has experimental_relax_shapes=True option that relaxes argument shapes that can avoid unnecessary retracing. For (3), please refer to https://www.tensorflow.org/guide/function#controlling_retracing and https://www.tensorflow.org/api_docs/python/tf/function for  more details.\n"
     ]
    }
   ],
   "source": [
    "meta = json.loads(Path(f\"{MODEL_PATHS[0]}.meta.json\").read_text())\n",
    "Y = np.zeros((len(paths), len(meta[\"classes\"])), dtype=np.float64)\n",
    "\n",
    "for model_path in MODEL_PATHS:\n",
    "\n",
    "    print(model_path)\n",
    "    model = tf.keras.models.load_model(f\"{model_path}.h5\")\n",
    "\n",
    "    fold_Y = []\n",
    "    paths_batch = []\n",
    "\n",
    "    for path in paths:\n",
    "        paths_batch.append(path)\n",
    "        if len(paths_batch) == meta[\"args\"][\"batch\"]:\n",
    "            fold_Y += list(_predict(paths_batch))\n",
    "            paths_batch = []\n",
    "\n",
    "    if len(paths_batch) > 0:\n",
    "        fold_Y += list(_predict(paths_batch, model))\n",
    "\n",
    "    Y += np.array(fold_Y)\n",
    "\n",
    "    # free GPU memory\n",
    "    del model\n",
    "    keras.backend.clear_session()"
   ]
  },
  {
   "cell_type": "code",
   "execution_count": null,
   "metadata": {},
   "outputs": [],
   "source": [
    "labels = list(map(_y_to_labels, Y / len(MODEL_PATHS)))"
   ]
  },
  {
   "cell_type": "code",
   "execution_count": null,
   "metadata": {},
   "outputs": [],
   "source": [
    " ! rm /kaggle/working/submission.csv"
   ]
  },
  {
   "cell_type": "code",
   "execution_count": 7,
   "metadata": {
    "_cell_guid": "b1076dfc-b9ad-4769-8c92-a6c4dae69d19",
    "_uuid": "8f2839f25d086af736a60e9eeb907d3b93b6e0e5"
   },
   "outputs": [],
   "source": [
    "dfs = pd.DataFrame()\n",
    "dfs.insert(0, \"image\", files)\n",
    "dfs.insert(1, \"labels\", labels)\n",
    "dfs.to_csv(\"/kaggle/working/submission.csv\", index=False)"
   ]
  },
  {
   "cell_type": "code",
   "execution_count": 8,
   "metadata": {},
   "outputs": [],
   "source": [
    "! cat /kaggle/working/submission.csv"
   ]
  }
 ],
 "metadata": {
  "kernelspec": {
   "display_name": "Python 3",
   "language": "python",
   "name": "python3"
  },
  "language_info": {
   "codemirror_mode": {
    "name": "ipython",
    "version": 3
   },
   "file_extension": ".py",
   "mimetype": "text/x-python",
   "name": "python",
   "nbconvert_exporter": "python",
   "pygments_lexer": "ipython3",
   "version": "3.8.5"
  }
 },
 "nbformat": 4,
 "nbformat_minor": 4
}

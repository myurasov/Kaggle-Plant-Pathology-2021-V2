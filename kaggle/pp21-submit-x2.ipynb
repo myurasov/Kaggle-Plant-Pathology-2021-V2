{
 "cells": [
  {
   "cell_type": "code",
   "execution_count": 1,
   "metadata": {
    "_cell_guid": "b1076dfc-b9ad-4769-8c92-a6c4dae69d19",
    "_uuid": "8f2839f25d086af736a60e9eeb907d3b93b6e0e5"
   },
   "outputs": [],
   "source": [
    "import json\n",
    "import os\n",
    "from glob import glob\n",
    "from pathlib import Path\n",
    "\n",
    "import numpy as np\n",
    "import pandas as pd\n",
    "import tensorflow as tf"
   ]
  },
  {
   "cell_type": "code",
   "execution_count": 1,
   "metadata": {
    "_cell_guid": "b1076dfc-b9ad-4769-8c92-a6c4dae69d19",
    "_uuid": "8f2839f25d086af736a60e9eeb907d3b93b6e0e5"
   },
   "outputs": [],
   "source": [
    "MODEL = \"/kaggle/input/pp21models/A_baseline_noaug.fold_1\"\n",
    "\n",
    "paths = glob(\"/kaggle/input/**/test_images/*.jpg\", recursive=True)\n",
    "files = list(map(os.path.basename, paths))\n",
    "\n",
    "model = tf.keras.models.load_model(f\"{MODEL}.h5\")\n",
    "meta = json.loads(Path(f\"{MODEL}.meta.json\").read_text())"
   ]
  },
  {
   "cell_type": "code",
   "execution_count": 1,
   "metadata": {
    "_cell_guid": "b1076dfc-b9ad-4769-8c92-a6c4dae69d19",
    "_uuid": "8f2839f25d086af736a60e9eeb907d3b93b6e0e5"
   },
   "outputs": [],
   "source": [
    "def _resize_tf_x2_2(path, size, zoom):\n",
    "\n",
    "    # decode jpeg\n",
    "    x = tf.io.read_file(path)\n",
    "    x = tf.image.decode_jpeg(x, channels=3)\n",
    "\n",
    "    # zoom=1\n",
    "    x1 = tf.image.resize(x, size, method=tf.image.ResizeMethod.BICUBIC)\n",
    "    x1 = x1.numpy().astype(np.uint8)\n",
    "\n",
    "    # zoom=zoom\n",
    "    x2 = tf.image.resize(\n",
    "        x,\n",
    "        (int(size[0] * zoom), int(size[1] * zoom)),\n",
    "        method=tf.image.ResizeMethod.BICUBIC,\n",
    "    )\n",
    "    x2 = x2.numpy().astype(np.uint8)\n",
    "\n",
    "    # center crop\n",
    "    hor = (x2.shape[0] - size[0]) // 2\n",
    "    ver = (x2.shape[1] - size[1]) // 2\n",
    "    x2 = x2[ver:-ver, hor:-hor, :]\n",
    "\n",
    "    assert x1.shape == size + (3,)\n",
    "    assert x1.dtype == np.uint8\n",
    "\n",
    "    assert x2.shape == size + (3,)\n",
    "    assert x2.dtype == np.uint8\n",
    "\n",
    "    return x1, x2\n",
    "\n",
    "\n",
    "def _path_to_x(path):\n",
    "    return _resize_tf_x2_2(\n",
    "        path=path,\n",
    "        size=meta[\"image_size\"][:2],\n",
    "        zoom=meta[\"agrs\"][\"zooms\"][1],\n",
    "    )\n",
    "\n",
    "\n",
    "def _y_to_labels(y):\n",
    "    labels = []\n",
    "\n",
    "    for i, v in enumerate(y):\n",
    "        if v > 0.5:\n",
    "            labels.append(meta[\"classes\"][i])\n",
    "\n",
    "    if len(labels) == 0:\n",
    "        labels = [\"healthy\"]\n",
    "\n",
    "    return \" \".join(labels)"
   ]
  },
  {
   "cell_type": "code",
   "execution_count": 1,
   "metadata": {
    "_cell_guid": "b1076dfc-b9ad-4769-8c92-a6c4dae69d19",
    "_uuid": "8f2839f25d086af736a60e9eeb907d3b93b6e0e5"
   },
   "outputs": [],
   "source": [
    "labels = []\n",
    "\n",
    "for path in paths:\n",
    "    x1, x2 = _path_to_x(path)\n",
    "    y = model.predict([np.array([x]), np.array([x])], verbose=0)[0]\n",
    "    labels.append(_y_to_labels(y))"
   ]
  },
  {
   "cell_type": "code",
   "execution_count": 1,
   "metadata": {
    "_cell_guid": "b1076dfc-b9ad-4769-8c92-a6c4dae69d19",
    "_uuid": "8f2839f25d086af736a60e9eeb907d3b93b6e0e5"
   },
   "outputs": [],
   "source": [
    "dfs = pd.DataFrame()\n",
    "dfs.insert(0, \"image\", files)\n",
    "dfs.insert(1, \"labels\", labels)\n",
    "dfs.to_csv(\"/kaggle/working/submission.csv\", index=False)"
   ]
  },
  {
   "cell_type": "code",
   "execution_count": 1,
   "metadata": {
    "_cell_guid": "b1076dfc-b9ad-4769-8c92-a6c4dae69d19",
    "_uuid": "8f2839f25d086af736a60e9eeb907d3b93b6e0e5"
   },
   "outputs": [],
   "source": [
    "# ! cat /kaggle/working/submission.csv"
   ]
  },
  {
   "cell_type": "code",
   "execution_count": null,
   "metadata": {},
   "outputs": [],
   "source": []
  }
 ],
 "metadata": {
  "kernelspec": {
   "display_name": "Python 3",
   "language": "python",
   "name": "python3"
  },
  "language_info": {
   "codemirror_mode": {
    "name": "ipython",
    "version": 3
   },
   "file_extension": ".py",
   "mimetype": "text/x-python",
   "name": "python",
   "nbconvert_exporter": "python",
   "pygments_lexer": "ipython3",
   "version": "3.8.5"
  }
 },
 "nbformat": 4,
 "nbformat_minor": 4
}

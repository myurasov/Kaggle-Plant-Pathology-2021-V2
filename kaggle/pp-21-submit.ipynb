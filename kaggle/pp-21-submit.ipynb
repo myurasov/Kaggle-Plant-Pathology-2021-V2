{
 "cells": [
  {
   "cell_type": "code",
   "execution_count": null,
   "metadata": {
    "_cell_guid": "b1076dfc-b9ad-4769-8c92-a6c4dae69d19",
    "_uuid": "8f2839f25d086af736a60e9eeb907d3b93b6e0e5"
   },
   "outputs": [],
   "source": [
    "import json\n",
    "import os\n",
    "from glob import glob\n",
    "from pathlib import Path\n",
    "\n",
    "import numpy as np\n",
    "import pandas as pd\n",
    "import tensorflow as tf"
   ]
  },
  {
   "cell_type": "code",
   "execution_count": null,
   "metadata": {
    "_cell_guid": "b1076dfc-b9ad-4769-8c92-a6c4dae69d19",
    "_uuid": "8f2839f25d086af736a60e9eeb907d3b93b6e0e5"
   },
   "outputs": [],
   "source": [
    "MODEL = \"/kaggle/input/pp21models/A_all.fold_1\""
   ]
  },
  {
   "cell_type": "code",
   "execution_count": null,
   "metadata": {
    "_cell_guid": "b1076dfc-b9ad-4769-8c92-a6c4dae69d19",
    "_uuid": "8f2839f25d086af736a60e9eeb907d3b93b6e0e5"
   },
   "outputs": [],
   "source": [
    "paths = glob(\"/kaggle/input/**/test_images/*.jpg\", recursive=True)\n",
    "files = list(map(os.path.basename, paths))"
   ]
  },
  {
   "cell_type": "code",
   "execution_count": null,
   "metadata": {
    "_cell_guid": "b1076dfc-b9ad-4769-8c92-a6c4dae69d19",
    "_uuid": "8f2839f25d086af736a60e9eeb907d3b93b6e0e5"
   },
   "outputs": [],
   "source": [
    "model = tf.keras.models.load_model(f\"{MODEL}.h5\")\n",
    "meta = json.loads(Path(f\"{MODEL}.meta.json\").read_text())"
   ]
  },
  {
   "cell_type": "code",
   "execution_count": null,
   "metadata": {
    "_cell_guid": "b1076dfc-b9ad-4769-8c92-a6c4dae69d19",
    "_uuid": "8f2839f25d086af736a60e9eeb907d3b93b6e0e5"
   },
   "outputs": [],
   "source": [
    "def _path_to_x(path):\n",
    "    x = tf.io.read_file(path)\n",
    "    x = tf.image.decode_jpeg(x, channels=3)\n",
    "    x = (\n",
    "        tf.image.resize(\n",
    "            x,\n",
    "            tuple(meta[\"image_size\"][:2]),\n",
    "            method=tf.image.ResizeMethod.BICUBIC,\n",
    "        )\n",
    "        .numpy()\n",
    "        .astype(np.uint8)\n",
    "    )\n",
    "    return x\n",
    "\n",
    "\n",
    "def _y_to_labels(y):\n",
    "    labels = []\n",
    "\n",
    "    for i, v in enumerate(y):\n",
    "        if v > 0.5:\n",
    "            labels.append(meta[\"classes\"][i])\n",
    "\n",
    "    if len(labels) == 0:\n",
    "        labels = [\"healthy\"]\n",
    "\n",
    "    return \" \".join(labels)"
   ]
  },
  {
   "cell_type": "code",
   "execution_count": null,
   "metadata": {
    "_cell_guid": "b1076dfc-b9ad-4769-8c92-a6c4dae69d19",
    "_uuid": "8f2839f25d086af736a60e9eeb907d3b93b6e0e5"
   },
   "outputs": [],
   "source": [
    "def _predict(batch):\n",
    "    X = []\n",
    "    labels = []\n",
    "\n",
    "    for path in batch:\n",
    "        X.append(_path_to_x(path))\n",
    "\n",
    "    y = model.predict(\n",
    "        np.array(X),\n",
    "        batch_size=meta[\"args\"][\"batch\"],\n",
    "        verbose=0,\n",
    "    )\n",
    "\n",
    "    return list(map(_y_to_labels, y))\n",
    "\n",
    "\n",
    "labels = []\n",
    "batch = []\n",
    "\n",
    "for path in paths:\n",
    "    batch.append(path)\n",
    "    if len(batch) == meta[\"args\"][\"batch\"]:\n",
    "        labels += _predict(batch)\n",
    "        batch = []\n",
    "\n",
    "if len(batch) > 0:\n",
    "    labels += _predict(batch)"
   ]
  },
  {
   "cell_type": "code",
   "execution_count": null,
   "metadata": {
    "_cell_guid": "b1076dfc-b9ad-4769-8c92-a6c4dae69d19",
    "_uuid": "8f2839f25d086af736a60e9eeb907d3b93b6e0e5"
   },
   "outputs": [],
   "source": [
    "dfs = pd.DataFrame()\n",
    "dfs.insert(0, \"image\", files)\n",
    "dfs.insert(1, \"labels\", labels)\n",
    "dfs.to_csv(\"/kaggle/working/submission.csv\", index=False)"
   ]
  },
  {
   "cell_type": "code",
   "execution_count": null,
   "metadata": {},
   "outputs": [],
   "source": [
    "# ! cat /kaggle/working/submission.csv"
   ]
  }
 ],
 "metadata": {
  "kernelspec": {
   "display_name": "Python 3",
   "language": "python",
   "name": "python3"
  },
  "language_info": {
   "codemirror_mode": {
    "name": "ipython",
    "version": 3
   },
   "file_extension": ".py",
   "mimetype": "text/x-python",
   "name": "python",
   "nbconvert_exporter": "python",
   "pygments_lexer": "ipython3",
   "version": "3.8.5"
  }
 },
 "nbformat": 4,
 "nbformat_minor": 4
}
